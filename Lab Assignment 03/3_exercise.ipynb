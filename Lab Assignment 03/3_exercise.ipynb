{
 "cells": [
  {
   "cell_type": "markdown",
   "metadata": {},
   "source": [
    "# Session 3: Signal analysis"
   ]
  },
  {
   "cell_type": "code",
   "execution_count": 9,
   "metadata": {
    "pycharm": {
     "name": "#%%\n"
    }
   },
   "outputs": [],
   "source": [
    "import numpy as np\n",
    "from numpy import histogram\n",
    "import matplotlib.pyplot as plt\n",
    "%matplotlib qt\n",
    "\n",
    "# hint: more packages will be neccessary later"
   ]
  },
  {
   "cell_type": "markdown",
   "metadata": {},
   "source": [
    "## Exercise 3.1"
   ]
  },
  {
   "cell_type": "code",
   "execution_count": 2,
   "metadata": {
    "pycharm": {
     "name": "#%%\n"
    }
   },
   "outputs": [],
   "source": [
    "# todo: your code here\n",
    "# insert as many cells as you like"
   ]
  },
  {
   "cell_type": "code",
   "execution_count": 12,
   "metadata": {},
   "outputs": [
    {
     "name": "stdout",
     "output_type": "stream",
     "text": [
      "Mean of x1 1.9999999999999991\n",
      "Mean of x2 2.000000000000001\n",
      "Mean of x3 2.0\n",
      "Max of x1 4.002124639842345\n",
      "Variance of x2:  0.4999999999999999\n",
      "Variance of x3:  1.4999999999999978\n"
     ]
    }
   ],
   "source": [
    "x1 = np.random.uniform(size=10**6)\n",
    "x2 = np.random.randn(10**6)\n",
    "x3 = np.random.randn(10**6)\n",
    "\n",
    "x2_var = x2*np.sqrt(0.5)/np.sqrt(np.var(x2))\n",
    "x3_var = x3*np.sqrt(1.5)/np.sqrt(np.var(x3))\n",
    "\n",
    "x2_var_mean2 = x2_var + (2-np.mean(x2_var))\n",
    "x3_var_mean2 = x3_var + (2-np.mean(x3_var))\n",
    "\n",
    "x1_norm = x1/(np.max(x1)/4)\n",
    "x1_mean2_norm = x1_norm + (2-np.mean(x1_norm))\n",
    "\n",
    "print(\"Mean of x1\", np.mean(x1_mean2_norm))\n",
    "print(\"Mean of x2\", np.mean(x2_var_mean2))\n",
    "print(\"Mean of x3\", np.mean(x3_var_mean2))\n",
    "print(\"Max of x1\", np.max(x1_mean2_norm))\n",
    "print(\"Variance of x2: \", np.var(x2_var_mean2))\n",
    "print(\"Variance of x3: \", np.var(x3_var_mean2))\n",
    "\n",
    "edges1 = np.arange(-4,8,0.1)\n",
    "edges2 = np.arange(-4,8,0.1)\n",
    "edges3 = np.arange(-4,8,0.1)\n",
    "\n",
    "x1_hist, _ = np.histogram(x1_mean2_norm, bins=edges1)\n",
    "x2_hist, _ = np.histogram(x2_var_mean2, bins=edges2)\n",
    "x3_hist, _ = np.histogram(x3_var_mean2, bins=edges3)\n",
    "\n",
    "centers1 = 0.5*(edges1[1:] + edges1[:-1])\n",
    "centers2 = 0.5*(edges2[1:] + edges2[:-1])\n",
    "centers3 = 0.5*(edges3[1:] + edges3[:-1])\n",
    "\n",
    "plt.plot(centers1, x1_hist, label=\"x1\")\n",
    "plt.plot(centers2, x2_hist, label=\"x2\")\n",
    "plt.plot(centers3, x3_hist, label=\"x3\")\n",
    "plt.legend(loc=\"upper left\")\n",
    "plt.grid()\n",
    "plt.show()\n"
   ]
  },
  {
   "cell_type": "code",
   "execution_count": 14,
   "metadata": {},
   "outputs": [],
   "source": [
    "p1 = x1_hist/np.sum(x1_hist)\n",
    "p2 = x2_hist/np.sum(x2_hist)\n",
    "p3 = x3_hist/np.sum(x3_hist)\n",
    "\n",
    "c1 = np.cumsum(p1)\n",
    "c2 = np.cumsum(p2)\n",
    "c3 = np.cumsum(p3)\n",
    "\n",
    "plt.plot(centers1, c1, label=\"c1\")\n",
    "plt.plot(centers2, c2, label=\"c2\")\n",
    "plt.plot(centers3, c3, label=\"c3\")\n",
    "plt.legend(loc=\"upper left\")\n",
    "plt.grid()\n",
    "plt.show()\n"
   ]
  },
  {
   "cell_type": "markdown",
   "metadata": {
    "pycharm": {
     "name": "#%% md\n"
    }
   },
   "source": [
    "## Exercise 3.2"
   ]
  },
  {
   "cell_type": "code",
   "execution_count": 15,
   "metadata": {},
   "outputs": [
    {
     "name": "stdout",
     "output_type": "stream",
     "text": [
      "Duration time is: 0.1 s\n",
      "The pitch period is:  145.45454545454547\n"
     ]
    }
   ],
   "source": [
    "import soundfile as sf\n",
    "from scipy.signal import correlate, correlation_lags\n",
    "import matplotlib.pyplot as plt\n",
    "import numpy as np\n",
    "\n",
    "voice1, sr1 = sf.read(\"voice1.wav\")\n",
    "print(\"Duration time is:\", len(voice1)/sr1, \"s\")\n",
    "\n",
    "phi_xx = correlate(voice1, voice1)\n",
    "lags = correlation_lags(len(voice1), len(voice1))\n",
    "plt.plot(lags, phi_xx)\n",
    "plt.grid()\n",
    "plt.show()\n",
    "\n",
    "pitch_period = sr1/55\n",
    "print(\"The pitch period is: \", pitch_period)\n"
   ]
  },
  {
   "cell_type": "code",
   "execution_count": 45,
   "metadata": {},
   "outputs": [],
   "source": [
    "%%capture\n",
    "sequences = np.load('sequences.npz')\n",
    "x = sequences['x']\n",
    "y1 = sequences['y1']\n",
    "y2 = sequences['y2']\n",
    "y3 = sequences['y3']\n",
    "\n",
    "#x_norm = x/np.max(x)\n",
    "#y1_norm = y1/np.max(y1)\n",
    "#y2_norm = y2/np.max(y2)\n",
    "#y3_norm = y3/np.max(y3)\n",
    "\n",
    "y1_corr = correlate(x, y1)\n",
    "#y2_corr = np.max(correlate(x, y2))\n",
    "y2_corr = correlate(x, y2)\n",
    "\n",
    "#y3_corr = np.max(correlate(x, y3))\n",
    "y3_corr = correlate(x, y2)\n",
    "\n",
    "print(\"Correlation of x and y1: \", y1_corr)\n",
    "print(\"Correlation of x and y2: \", y2_corr)\n",
    "print(\"Correlation of x and y3: \", y3_corr)\n",
    "\n",
    "# plt.plot(x_norm,label=\"Original Signal\")\n",
    "# plt.plot(y1_norm,label=\"y1\")\n",
    "# plt.plot(y2_norm,label=\"y2\")\n",
    "# plt.plot(y3_norm,label=\"y3\")\n",
    "# plt.legend()\n",
    "# plt.show()\n",
    "\n",
    "phi_xx = correlate(x, x)\n",
    "lags = correlation_lags(len(x), len(x))\n",
    "plt.plot(lags, phi_xx,label=\"x-x\")\n",
    "\n",
    "phi_xy1 = correlate(x, y1)\n",
    "lags_xy1 = correlation_lags(len(x), len(y1))\n",
    "plt.plot(lags_xy1, phi_xy1,label=\"x-y1\")\n",
    "\n",
    "phi_xy2 = correlate(x, y2)\n",
    "lags_xy2 = correlation_lags(len(x), len(y2))\n",
    "plt.plot(lags_xy2, phi_xy2, label=\"x-y2\")\n",
    "\n",
    "phi_xy3 = correlate(x, y3)\n",
    "lags_xy3 = correlation_lags(len(x), len(y3))\n",
    "plt.plot(lags_xy3, phi_xy3,label=\"x-y3\")\n",
    "\n",
    "plt.grid()\n",
    "plt.legend()\n",
    "plt.show()\n"
   ]
  },
  {
   "cell_type": "code",
   "execution_count": 46,
   "metadata": {},
   "outputs": [
    {
     "name": "stdout",
     "output_type": "stream",
     "text": [
      "Shifted signal y2 by 14\n",
      "Scaled signal y3 by 2\n"
     ]
    }
   ],
   "source": [
    "print(\"Shifted signal y2 by 14\")\n",
    "print(\"Scaled signal y3 by 2\")"
   ]
  },
  {
   "cell_type": "markdown",
   "metadata": {},
   "source": [
    "## Exercise 3.3"
   ]
  },
  {
   "cell_type": "code",
   "execution_count": 7,
   "metadata": {
    "pycharm": {
     "name": "#%% verschobene Einheitsimpulsfolgen erzeugen\n"
    }
   },
   "outputs": [],
   "source": [
    "def show_parts(x, name):\n",
    "    pass"
   ]
  },
  {
   "cell_type": "code",
   "execution_count": 24,
   "metadata": {
    "pycharm": {
     "name": "#%%\n"
    }
   },
   "outputs": [],
   "source": [
    "import numpy as np\n",
    "import scipy.fft as fft\n",
    "from scipy.signal import spectrogram\n",
    "import matplotlib.pyplot as plt\n",
    "import cmath\n",
    "\n",
    "x1 = np.zeros(64)\n",
    "x2 = np.zeros(64)\n",
    "x3 = np.zeros(64)\n",
    "x1[0] = 1\n",
    "x2[1] = 1\n",
    "x3[2] = 1\n",
    "\n",
    "def show_fft(x,name=\"\"):\n",
    "    x_ft = fft.fft(x)\n",
    "    mag_x = np.abs(x_ft)\n",
    "    ang_x = np.angle(x_ft)\n",
    "\n",
    "    imag_x = np.imag(x_ft)\n",
    "    real_x = np.real(x_ft)\n",
    "    x_len = len(x_ft)\n",
    "\n",
    "    fig, axs = plt.subplots(2,2)\n",
    "    axs[0,0].plot(range(x_len), real_x)\n",
    "    axs[0,0].set_title('Real Part')\n",
    "    axs[0,1].plot(range(x_len), imag_x)\n",
    "    axs[0,1].set_title('Imaginary Part')\n",
    "    axs[1,0].plot(range(x_len), mag_x)\n",
    "    axs[1,0].set_title('Magnitude')\n",
    "    axs[1,1].plot(range(x_len), ang_x)\n",
    "    axs[1,1].set_title('Angle')\n",
    "    \n",
    "    fig.tight_layout(pad=4)\n",
    "    fig.suptitle(name,fontsize = 24)\n",
    "    plt.show()\n",
    "\n",
    "    return mag_x, ang_x, imag_x, real_x"
   ]
  },
  {
   "cell_type": "code",
   "execution_count": 63,
   "metadata": {},
   "outputs": [],
   "source": [
    "%%capture\n",
    "show_fft(x1,\"x1\")\n",
    "show_fft(x2,\"x2\")\n",
    "show_fft(x3,\"x3\")"
   ]
  },
  {
   "cell_type": "code",
   "execution_count": 64,
   "metadata": {},
   "outputs": [],
   "source": [
    "%%capture\n",
    "N = 64\n",
    "n = 5\n",
    "k = np.linspace(0, N-1, num=N)\n",
    "x4 = np.cos(2*k*np.pi*n/N)\n",
    "x5 = np.cos((n+0.5)*k*2*np.pi/N)\n",
    "\n",
    "plt.plot(k, x4,label=\"x4\")\n",
    "plt.plot(k, x5,label=\"x5\")\n",
    "\n",
    "plt.legend()\n",
    "plt.show()\n",
    "\n",
    "show_fft(x4)\n",
    "show_fft(x5)"
   ]
  },
  {
   "cell_type": "markdown",
   "metadata": {},
   "source": [
    "## Exercise 3.4"
   ]
  },
  {
   "cell_type": "code",
   "execution_count": 66,
   "metadata": {
    "pycharm": {
     "name": "#%%\n"
    }
   },
   "outputs": [
    {
     "name": "stdout",
     "output_type": "stream",
     "text": [
      "Duration time is: 1.25 s\n",
      "Frequency of first sine wave component is  960.0\n",
      "Frequency of second sine wave component is  1000.0\n",
      "Frequency of third sine wave component is  2000.0\n"
     ]
    }
   ],
   "source": [
    "import soundfile as sf\n",
    "from scipy.signal import correlate, correlation_lags\n",
    "import matplotlib.pyplot as plt\n",
    "import numpy as np\n",
    "\n",
    "distorted, sr2 = sf.read(\"distorted.wav\")\n",
    "print(\"Duration time is:\", len(distorted)/sr2, \"s\")\n",
    "\n",
    "plt.plot(np.arange(len(distorted)),distorted)\n",
    "#plt.show()\n",
    "\n",
    "show_fft(distorted)\n",
    "\n",
    "N = len(distorted)\n",
    "\n",
    "f1 = sr2*1200/N  # f = fs*peak/sr\n",
    "f2 = sr2*1250/N\n",
    "f3 = sr2*2500/N\n",
    "\n",
    "print(\"Frequency of first sine wave component is \", f1)\n",
    "print(\"Frequency of second sine wave component is \", f2)\n",
    "print(\"Frequency of third sine wave component is \", f3)"
   ]
  },
  {
   "cell_type": "markdown",
   "metadata": {},
   "source": [
    "## Exercise 3.5"
   ]
  },
  {
   "cell_type": "code",
   "execution_count": 9,
   "metadata": {},
   "outputs": [],
   "source": [
    "params_default=dict(nperseg=512, noverlap=0, nfft=None, window='rect', fs=fs)"
   ]
  },
  {
   "cell_type": "code",
   "execution_count": 70,
   "metadata": {},
   "outputs": [
    {
     "name": "stdout",
     "output_type": "stream",
     "text": [
      "Duration time is: 10.8 s\n"
     ]
    },
    {
     "name": "stderr",
     "output_type": "stream",
     "text": [
      "<ipython-input-70-07a5e19b72ff>:16: RuntimeWarning: divide by zero encountered in log10\n",
      "  ax[0].pcolormesh(tframe1, fbin1, 10 * np.log10(S1), vmin=-80)\n",
      "<ipython-input-70-07a5e19b72ff>:16: MatplotlibDeprecationWarning: shading='flat' when X and Y have the same dimensions as C is deprecated since 3.3.  Either specify the corners of the quadrilaterals with X and Y, or pass shading='auto', 'nearest' or 'gouraud', or set rcParams['pcolor.shading'].  This will become an error two minor releases later.\n",
      "  ax[0].pcolormesh(tframe1, fbin1, 10 * np.log10(S1), vmin=-80)\n",
      "<ipython-input-70-07a5e19b72ff>:24: MatplotlibDeprecationWarning: shading='flat' when X and Y have the same dimensions as C is deprecated since 3.3.  Either specify the corners of the quadrilaterals with X and Y, or pass shading='auto', 'nearest' or 'gouraud', or set rcParams['pcolor.shading'].  This will become an error two minor releases later.\n",
      "  ax[1].pcolormesh(tframe2, fbin2, 10 * np.log10(S2), vmin=-80)\n"
     ]
    }
   ],
   "source": [
    "import soundfile as sf\n",
    "from scipy.signal import spectrogram\n",
    "import matplotlib.pyplot as plt\n",
    "import numpy as np\n",
    "#import sounddevice as sd\n",
    "\n",
    "voice2, sr3 = sf.read(\"voice2.wav\")\n",
    "print(\"Duration time is:\", len(voice2)/sr3, \"s\")\n",
    "\n",
    "\n",
    "def compare_specs(x, fs, params_def, **kwargs):\n",
    "    fig, ax = plt.subplots(1, 2)\n",
    "    params = params_def.copy()\n",
    "\n",
    "    fbin1, tframe1, S1 = spectrogram(x, fs, **params)\n",
    "    ax[0].pcolormesh(tframe1, fbin1, 10 * np.log10(S1), vmin=-80)\n",
    "    ax[0].set_xlabel('t in [s]')\n",
    "    ax[0].set_ylabel('f in [Hz]')\n",
    "    ax[0].set_title('Default Spectrogram')\n",
    "    for key in kwargs:\n",
    "        params[key] = kwargs[key]\n",
    "\n",
    "    fbin2, tframe2, S2 = spectrogram(x, fs, **params)\n",
    "    ax[1].pcolormesh(tframe2, fbin2, 10 * np.log10(S2), vmin=-80)\n",
    "    ax[1].set_xlabel('t in [s]')\n",
    "    ax[1].set_ylabel('f in [Hz]')\n",
    "    ax[1].set_title('Spectrogram with changed Values')\n",
    "    fig.tight_layout(pad=4.0)\n",
    "    plt.show()\n",
    "\n",
    "\n",
    "params_default = dict(nperseg=512, noverlap=0, nfft=None, window='rect')\n",
    "plot_dict = dict(shading='goraud', vmin=-40)\n",
    "\n",
    "compare_specs(voice2, sr3, params_default, nperseg=2000)\n",
    "\n",
    "#sd.play(voice2,sr3)"
   ]
  },
  {
   "cell_type": "code",
   "execution_count": null,
   "metadata": {},
   "outputs": [],
   "source": []
  }
 ],
 "metadata": {
  "kernelspec": {
   "display_name": "Python 3",
   "language": "python",
   "name": "python3"
  },
  "language_info": {
   "codemirror_mode": {
    "name": "ipython",
    "version": 3
   },
   "file_extension": ".py",
   "mimetype": "text/x-python",
   "name": "python",
   "nbconvert_exporter": "python",
   "pygments_lexer": "ipython3",
   "version": "3.8.8"
  }
 },
 "nbformat": 4,
 "nbformat_minor": 1
}